{
 "cells": [
  {
   "cell_type": "markdown",
   "id": "0e9e31cc",
   "metadata": {},
   "source": [
    "# Import"
   ]
  },
  {
   "cell_type": "code",
   "execution_count": 122,
   "id": "669914aa",
   "metadata": {},
   "outputs": [
    {
     "name": "stdout",
     "output_type": "stream",
     "text": [
      "OK !\n"
     ]
    }
   ],
   "source": [
    "import pandas as pd\n",
    "import ast \n",
    "import difflib as dif\n",
    "from colorama import Fore, Style\n",
    "import pickle\n",
    "#for query\n",
    "from sklearn.feature_extraction.text import TfidfVectorizer\n",
    "from sklearn.metrics.pairwise import cosine_similarity\n",
    "from pythainlp.tokenize import word_tokenize\n",
    "from string import punctuation\n",
    "import numpy as np\n",
    "import time\n",
    "\n",
    "print('OK !')"
   ]
  },
  {
   "cell_type": "markdown",
   "id": "44f6e65b",
   "metadata": {},
   "source": [
    "# Load Data"
   ]
  },
  {
   "cell_type": "markdown",
   "id": "2154796a",
   "metadata": {},
   "source": [
    "### Load code_mapping"
   ]
  },
  {
   "cell_type": "code",
   "execution_count": 123,
   "id": "0d09dbc5",
   "metadata": {},
   "outputs": [],
   "source": [
    "code_mapping = pd.read_csv('code_doc_mapping.csv',dtype='str')"
   ]
  },
  {
   "cell_type": "code",
   "execution_count": 124,
   "id": "87b07139",
   "metadata": {},
   "outputs": [
    {
     "data": {
      "text/html": [
       "<div>\n",
       "<style scoped>\n",
       "    .dataframe tbody tr th:only-of-type {\n",
       "        vertical-align: middle;\n",
       "    }\n",
       "\n",
       "    .dataframe tbody tr th {\n",
       "        vertical-align: top;\n",
       "    }\n",
       "\n",
       "    .dataframe thead th {\n",
       "        text-align: right;\n",
       "    }\n",
       "</style>\n",
       "<table border=\"1\" class=\"dataframe\">\n",
       "  <thead>\n",
       "    <tr style=\"text-align: right;\">\n",
       "      <th></th>\n",
       "      <th>doc_id</th>\n",
       "      <th>name</th>\n",
       "    </tr>\n",
       "  </thead>\n",
       "  <tbody>\n",
       "    <tr>\n",
       "      <th>0</th>\n",
       "      <td>0000</td>\n",
       "      <td>นำส่งประกาศธนาคารแห่งประเทศไทย เรื่องกำหนด หลั...</td>\n",
       "    </tr>\n",
       "    <tr>\n",
       "      <th>1</th>\n",
       "      <td>0001</td>\n",
       "      <td>นำส่งประกาศธนาคารแห่งประเทศไทย เรื่องกำหนด หลั...</td>\n",
       "    </tr>\n",
       "    <tr>\n",
       "      <th>2</th>\n",
       "      <td>0002</td>\n",
       "      <td>นำส่งประกาศธนาคารแห่งประเทศไทย เรื่องกำหนด หลั...</td>\n",
       "    </tr>\n",
       "    <tr>\n",
       "      <th>3</th>\n",
       "      <td>0003</td>\n",
       "      <td>นำส่งประกาศธนาคารแห่งประเทศไทย เรื่องกำหนด หลั...</td>\n",
       "    </tr>\n",
       "    <tr>\n",
       "      <th>4</th>\n",
       "      <td>0004</td>\n",
       "      <td>หลักเกณฑ์ วิธีการ และเงื่อนไขในการประกอบธุรกิจ...</td>\n",
       "    </tr>\n",
       "  </tbody>\n",
       "</table>\n",
       "</div>"
      ],
      "text/plain": [
       "  doc_id                                               name\n",
       "0   0000  นำส่งประกาศธนาคารแห่งประเทศไทย เรื่องกำหนด หลั...\n",
       "1   0001  นำส่งประกาศธนาคารแห่งประเทศไทย เรื่องกำหนด หลั...\n",
       "2   0002  นำส่งประกาศธนาคารแห่งประเทศไทย เรื่องกำหนด หลั...\n",
       "3   0003  นำส่งประกาศธนาคารแห่งประเทศไทย เรื่องกำหนด หลั...\n",
       "4   0004  หลักเกณฑ์ วิธีการ และเงื่อนไขในการประกอบธุรกิจ..."
      ]
     },
     "execution_count": 124,
     "metadata": {},
     "output_type": "execute_result"
    }
   ],
   "source": [
    "code_mapping.head()"
   ]
  },
  {
   "cell_type": "markdown",
   "id": "bbed4a12",
   "metadata": {},
   "source": [
    "### Load dict_query"
   ]
  },
  {
   "cell_type": "code",
   "execution_count": 125,
   "id": "30597520",
   "metadata": {},
   "outputs": [],
   "source": [
    "with open('dict_query.pickle', 'rb') as file:\n",
    "    dict_query = pickle.load(file)"
   ]
  },
  {
   "cell_type": "code",
   "execution_count": 126,
   "id": "ed28a3f1",
   "metadata": {},
   "outputs": [],
   "source": [
    "with open('dict_query_list.pickle', 'rb') as file:\n",
    "    dict_query_list = pickle.load(file)"
   ]
  },
  {
   "cell_type": "code",
   "execution_count": 127,
   "id": "be735562",
   "metadata": {},
   "outputs": [
    {
     "name": "stdout",
     "output_type": "stream",
     "text": [
      "code_id:  0000|0001|0002\n",
      "เพื่อใช้ในการค้นหา \n",
      "\n",
      "dict_query:  23 (2563 เรื่อง นำส่งประกาศธนาคารแห่งประเทศไทย เรื่อง การกำหนด หลักเกณฑ์ วิธีการ และเงื่อนไขในการประ ...\n",
      "\n",
      "เพื่อใช้ในการแสดงผลต่างและเหมือน \n",
      "\n",
      "dict_query_list:  ['23', ' ', '(', '2563', ' ', 'เรื่อง', ' ', 'นำ', 'ส่ง', 'ประกาศ', 'ธนาคารแห่งประเทศไทย', ' ', 'เรื่อง', ' ', 'การ', 'กำหนด', ' ', 'หลักเกณฑ์', ' ', 'วิธีการ'] ...\n"
     ]
    }
   ],
   "source": [
    "# Ex code id\n",
    "code_id = '0000|0001|0002'\n",
    "print(\"code_id: \",code_id)\n",
    "print(\"เพื่อใช้ในการค้นหา \\n\")\n",
    "print(\"dict_query: \",dict_query[code_id][:100],\"...\")\n",
    "print(\"\\nเพื่อใช้ในการแสดงผลต่างและเหมือน \\n\")\n",
    "print(\"dict_query_list: \",dict_query_list[code_id][:20],\"...\")"
   ]
  },
  {
   "cell_type": "markdown",
   "id": "3147565f",
   "metadata": {},
   "source": [
    "### Load Dict Pair"
   ]
  },
  {
   "cell_type": "code",
   "execution_count": 128,
   "id": "38a23f76",
   "metadata": {},
   "outputs": [],
   "source": [
    "#dict_pair\n",
    "with open('dict_pair.pickle', 'rb') as file:\n",
    "    dict_pair = pickle.load(file)"
   ]
  },
  {
   "cell_type": "code",
   "execution_count": 129,
   "id": "d190e90b",
   "metadata": {},
   "outputs": [
    {
     "name": "stdout",
     "output_type": "stream",
     "text": [
      "query_code_id:  0000|0001|0014\n",
      "mapping_result_id:  ['0001|0003|0023', '0002|0001|0018', '0002|0003|0023', '0003|0001|0015']\n",
      "Score:  [0.3864695375956029, 0.7044029412765824, 0.5754118673416391, 0.3265738860112924]\n"
     ]
    }
   ],
   "source": [
    "index_find = 5\n",
    "print(\"query_code_id: \",dict_pair['query'][5])\n",
    "print(\"mapping_result_id: \",dict_pair['result'][5])\n",
    "print(\"Score: \",dict_pair['Score'][5])"
   ]
  },
  {
   "cell_type": "markdown",
   "id": "19bd8672",
   "metadata": {},
   "source": [
    "### Load TF-IDF"
   ]
  },
  {
   "cell_type": "markdown",
   "id": "041de8e2",
   "metadata": {},
   "source": [
    "#### Query Function"
   ]
  },
  {
   "cell_type": "code",
   "execution_count": 130,
   "id": "693a305b",
   "metadata": {},
   "outputs": [
    {
     "name": "stdout",
     "output_type": "stream",
     "text": [
      "OK !\n"
     ]
    }
   ],
   "source": [
    "def canonicalize(string):\n",
    "    normalized_tokens = list()\n",
    "    a = word_tokenize(string, engine = 'newmm')\n",
    "    for j in a:\n",
    "        token = j.strip()\n",
    "        #Add clean statement here \n",
    "        if len(token) > 1 and token not in set(punctuation) and token not in ['..','...','ๆๆ']:\n",
    "            try:\n",
    "                normalized_tokens.append(token.lower())\n",
    "            except:\n",
    "                normalized_tokens.append(token)\n",
    "                pass\n",
    "    return normalized_tokens\n",
    "\n",
    "\n",
    "# A function that given an input query item returns the top-k most similar items \n",
    "# by their cosine similarity.\n",
    "def find_similar(query_vector, td_matrix, top_k = 5):\n",
    "    cosine_similarities = cosine_similarity(query_vector, td_matrix).flatten()\n",
    "    related_doc_indices = cosine_similarities.argsort()[::-1]\n",
    "    return [(index, cosine_similarities[index]) for index in related_doc_indices][0:top_k]\n",
    "\n",
    "print('OK !')"
   ]
  },
  {
   "cell_type": "code",
   "execution_count": 131,
   "id": "caaa8043",
   "metadata": {},
   "outputs": [
    {
     "name": "stderr",
     "output_type": "stream",
     "text": [
      "/opt/anaconda3/envs/py39thria/lib/python3.9/site-packages/sklearn/base.py:329: UserWarning: Trying to unpickle estimator TfidfTransformer from version 1.0.2 when using version 1.1.1. This might lead to breaking code or invalid results. Use at your own risk. For more info please refer to:\n",
      "https://scikit-learn.org/stable/model_persistence.html#security-maintainability-limitations\n",
      "  warnings.warn(\n",
      "/opt/anaconda3/envs/py39thria/lib/python3.9/site-packages/sklearn/base.py:329: UserWarning: Trying to unpickle estimator TfidfVectorizer from version 1.0.2 when using version 1.1.1. This might lead to breaking code or invalid results. Use at your own risk. For more info please refer to:\n",
      "https://scikit-learn.org/stable/model_persistence.html#security-maintainability-limitations\n",
      "  warnings.warn(\n"
     ]
    }
   ],
   "source": [
    "tfidf_vectorizer = pickle.load(open('tfidf_vectorizer.sav', 'rb'))\n",
    "tfidf_term_document_matrix = pickle.load(open('tfidf_term_document_matrix.sav', 'rb'))"
   ]
  },
  {
   "cell_type": "markdown",
   "id": "77e49b52",
   "metadata": {},
   "source": [
    "## Step01 query"
   ]
  },
  {
   "cell_type": "code",
   "execution_count": 132,
   "id": "157f9023",
   "metadata": {},
   "outputs": [],
   "source": [
    "def change_dict_query_to_df(dict_query):\n",
    "    index_list = []\n",
    "    code_id_list = []\n",
    "    sentence_list = []\n",
    "    for index,doc in enumerate(list(dict_query.values())):\n",
    "        code_id_list.append(list(dict_query.keys())[index])\n",
    "        index_list.append(index)\n",
    "        sentence_list.append(doc)\n",
    "    dict_query_df = pd.DataFrame(data={'index':index_list,'code_id':code_id_list,'sentence_list':sentence_list})\n",
    "    return dict_query_df"
   ]
  },
  {
   "cell_type": "code",
   "execution_count": 133,
   "id": "b1d85876",
   "metadata": {},
   "outputs": [
    {
     "data": {
      "text/html": [
       "<div>\n",
       "<style scoped>\n",
       "    .dataframe tbody tr th:only-of-type {\n",
       "        vertical-align: middle;\n",
       "    }\n",
       "\n",
       "    .dataframe tbody tr th {\n",
       "        vertical-align: top;\n",
       "    }\n",
       "\n",
       "    .dataframe thead th {\n",
       "        text-align: right;\n",
       "    }\n",
       "</style>\n",
       "<table border=\"1\" class=\"dataframe\">\n",
       "  <thead>\n",
       "    <tr style=\"text-align: right;\">\n",
       "      <th></th>\n",
       "      <th>index</th>\n",
       "      <th>code_id</th>\n",
       "      <th>sentence_list</th>\n",
       "    </tr>\n",
       "  </thead>\n",
       "  <tbody>\n",
       "    <tr>\n",
       "      <th>0</th>\n",
       "      <td>0</td>\n",
       "      <td>0000|0001|0002</td>\n",
       "      <td>23 (2563 เรื่อง นำส่งประกาศธนาคารแห่งประเทศไทย...</td>\n",
       "    </tr>\n",
       "    <tr>\n",
       "      <th>1</th>\n",
       "      <td>1</td>\n",
       "      <td>0000|0001|0003</td>\n",
       "      <td>กำหนด หลักเกณฑ์ วิธีการ และเงื่อนไขในการประกอบ...</td>\n",
       "    </tr>\n",
       "    <tr>\n",
       "      <th>2</th>\n",
       "      <td>2</td>\n",
       "      <td>0000|0001|0004</td>\n",
       "      <td>ขอนำส่งประกาศธนาคารแห่งประเทศไทย ที่(ฝ่ายงาน) ...</td>\n",
       "    </tr>\n",
       "    <tr>\n",
       "      <th>3</th>\n",
       "      <td>3</td>\n",
       "      <td>0000|0001|0006</td>\n",
       "      <td>การประกอบธุรกิจบัตรเครดิต ลง (วันที่)ซึ่งได้ปร...</td>\n",
       "    </tr>\n",
       "    <tr>\n",
       "      <th>4</th>\n",
       "      <td>4</td>\n",
       "      <td>0000|0001|0008</td>\n",
       "      <td>พิเศษ 174 ง ลง (วันที่)มาพร้อมนี้ การปรับปรุงป...</td>\n",
       "    </tr>\n",
       "  </tbody>\n",
       "</table>\n",
       "</div>"
      ],
      "text/plain": [
       "   index         code_id                                      sentence_list\n",
       "0      0  0000|0001|0002  23 (2563 เรื่อง นำส่งประกาศธนาคารแห่งประเทศไทย...\n",
       "1      1  0000|0001|0003  กำหนด หลักเกณฑ์ วิธีการ และเงื่อนไขในการประกอบ...\n",
       "2      2  0000|0001|0004  ขอนำส่งประกาศธนาคารแห่งประเทศไทย ที่(ฝ่ายงาน) ...\n",
       "3      3  0000|0001|0006  การประกอบธุรกิจบัตรเครดิต ลง (วันที่)ซึ่งได้ปร...\n",
       "4      4  0000|0001|0008  พิเศษ 174 ง ลง (วันที่)มาพร้อมนี้ การปรับปรุงป..."
      ]
     },
     "execution_count": 133,
     "metadata": {},
     "output_type": "execute_result"
    }
   ],
   "source": [
    "dict_query_df = change_dict_query_to_df(dict_query)\n",
    "dict_query_df.head()"
   ]
  },
  {
   "cell_type": "code",
   "execution_count": 75,
   "id": "13ba3be1",
   "metadata": {},
   "outputs": [],
   "source": [
    "def query(query_text,tfidf_term_document_matrix,dict_query):\n",
    "    transformed = tfidf_vectorizer.transform([query_text])\n",
    "    query = transformed[0:1]\n",
    "    np_result = np.array(find_similar(query, tfidf_term_document_matrix, len(list(dict_query.values()))))\n",
    "    index_list = []\n",
    "    score_list = []\n",
    "    df_dict = {'index': index_list, 'score': score_list}\n",
    "\n",
    "    df_dict['index'] =  np_result[:,0]\n",
    "    df_dict['score'] =  np_result[:,1]\n",
    "\n",
    "    df = pd.DataFrame(df_dict)\n",
    "    df['index'] = df['index'].astype(int)\n",
    "    df = df.merge(dict_query_df,on='index',how='left')\n",
    "    df = df[df['score'] >0]\n",
    "    return df"
   ]
  },
  {
   "cell_type": "code",
   "execution_count": 138,
   "id": "f90e902b",
   "metadata": {},
   "outputs": [
    {
     "name": "stdout",
     "output_type": "stream",
     "text": [
      "พ.ร.บ.\n"
     ]
    }
   ],
   "source": [
    "sentence_query = 'พ.ร.บ.'\n",
    "print(sentence_query)"
   ]
  },
  {
   "cell_type": "code",
   "execution_count": 140,
   "id": "d46aea07",
   "metadata": {},
   "outputs": [
    {
     "data": {
      "text/html": [
       "<div>\n",
       "<style scoped>\n",
       "    .dataframe tbody tr th:only-of-type {\n",
       "        vertical-align: middle;\n",
       "    }\n",
       "\n",
       "    .dataframe tbody tr th {\n",
       "        vertical-align: top;\n",
       "    }\n",
       "\n",
       "    .dataframe thead th {\n",
       "        text-align: right;\n",
       "    }\n",
       "</style>\n",
       "<table border=\"1\" class=\"dataframe\">\n",
       "  <thead>\n",
       "    <tr style=\"text-align: right;\">\n",
       "      <th></th>\n",
       "      <th>index</th>\n",
       "      <th>score</th>\n",
       "      <th>code_id</th>\n",
       "      <th>sentence_list</th>\n",
       "    </tr>\n",
       "  </thead>\n",
       "  <tbody>\n",
       "    <tr>\n",
       "      <th>0</th>\n",
       "      <td>321</td>\n",
       "      <td>0.190020</td>\n",
       "      <td>0002|0003|0029</td>\n",
       "      <td>) ตามที่ พ.ร.บ. ธุรกิจสถาบันการเงิน พ.ศ. 2551 ...</td>\n",
       "    </tr>\n",
       "    <tr>\n",
       "      <th>1</th>\n",
       "      <td>320</td>\n",
       "      <td>0.182846</td>\n",
       "      <td>0002|0003|0028</td>\n",
       "      <td>จากลูกหนี้เหลือร้อยละ 33 ต่อปี (effective rate...</td>\n",
       "    </tr>\n",
       "    <tr>\n",
       "      <th>2</th>\n",
       "      <td>161</td>\n",
       "      <td>0.180530</td>\n",
       "      <td>0001|0003|0030</td>\n",
       "      <td>มีทะเบียนรถเป็นประกัน ตามที่ พ.ร.บ. ธุรกิจสถาบ...</td>\n",
       "    </tr>\n",
       "    <tr>\n",
       "      <th>3</th>\n",
       "      <td>16</td>\n",
       "      <td>0.179642</td>\n",
       "      <td>0000|0003|0022</td>\n",
       "      <td>ต่อปี ตามที่ พ.ร.บ. ธุรกิจสถาบันการเงิน พ.ศ. 2...</td>\n",
       "    </tr>\n",
       "    <tr>\n",
       "      <th>4</th>\n",
       "      <td>7</td>\n",
       "      <td>0.176311</td>\n",
       "      <td>0000|0001|0015</td>\n",
       "      <td>Corporate Governance) รวมถึงเพื่อปรับลดอัตรารว...</td>\n",
       "    </tr>\n",
       "  </tbody>\n",
       "</table>\n",
       "</div>"
      ],
      "text/plain": [
       "   index     score         code_id  \\\n",
       "0    321  0.190020  0002|0003|0029   \n",
       "1    320  0.182846  0002|0003|0028   \n",
       "2    161  0.180530  0001|0003|0030   \n",
       "3     16  0.179642  0000|0003|0022   \n",
       "4      7  0.176311  0000|0001|0015   \n",
       "\n",
       "                                       sentence_list  \n",
       "0  ) ตามที่ พ.ร.บ. ธุรกิจสถาบันการเงิน พ.ศ. 2551 ...  \n",
       "1  จากลูกหนี้เหลือร้อยละ 33 ต่อปี (effective rate...  \n",
       "2  มีทะเบียนรถเป็นประกัน ตามที่ พ.ร.บ. ธุรกิจสถาบ...  \n",
       "3  ต่อปี ตามที่ พ.ร.บ. ธุรกิจสถาบันการเงิน พ.ศ. 2...  \n",
       "4  Corporate Governance) รวมถึงเพื่อปรับลดอัตรารว...  "
      ]
     },
     "execution_count": 140,
     "metadata": {},
     "output_type": "execute_result"
    }
   ],
   "source": [
    "df_query = query(sentence_query,tfidf_term_document_matrix,dict_query)\n",
    "df_query.head()"
   ]
  },
  {
   "cell_type": "code",
   "execution_count": 141,
   "id": "89da9ee1",
   "metadata": {},
   "outputs": [],
   "source": [
    "# def query(sentence_query):\n",
    "#     query_code_id_list = list(dict_query.keys())[list(dict_query.values()).index(sentence_query)]\n",
    "#     return [query_code_id_list] #return multiple code as list"
   ]
  },
  {
   "cell_type": "code",
   "execution_count": 142,
   "id": "b8cee8db",
   "metadata": {},
   "outputs": [],
   "source": [
    "def get_document_info(query_code_id):\n",
    "    query_code_id_split = query_code_id.split(\"|\")\n",
    "    doc_id = query_code_id_split[0]\n",
    "    page_id = query_code_id_split[1]\n",
    "    sentence_id = query_code_id_split[2]\n",
    "    doc_name = code_mapping[code_mapping['doc_id'] == doc_id].iloc[0]['name']\n",
    "    return doc_id, page_id, sentence_id, doc_name"
   ]
  },
  {
   "cell_type": "code",
   "execution_count": 143,
   "id": "1340ba3b",
   "metadata": {},
   "outputs": [],
   "source": [
    "doc_id, page_id, sentence_id, doc_name = get_document_info('0040|0001|0000')"
   ]
  },
  {
   "cell_type": "code",
   "execution_count": 144,
   "id": "7a1b9ccf",
   "metadata": {},
   "outputs": [
    {
     "name": "stdout",
     "output_type": "stream",
     "text": [
      "Doc_id:  0040\n",
      "Doc_Name:  แนวทางการใหค้วามช่วยเหลือลูกหนี้้ีที่ไดร้ับผลกระทบจากโรคติดเช้ือไวรัสโค โรนา 2019 (มาตราการแก้หนี้ระยะยาวด้วยการรีไฟแนนส์(refinance) และการ รวมหนี้้ี(debt consolidation))\n",
      "page_id:  0001\n",
      "sentence_id:  0000\n"
     ]
    }
   ],
   "source": [
    "print('Doc_id: ',doc_id)\n",
    "print('Doc_Name: ',doc_name)\n",
    "print('page_id: ',page_id)\n",
    "print('sentence_id: ',sentence_id)"
   ]
  },
  {
   "cell_type": "markdown",
   "id": "15d11c56",
   "metadata": {},
   "source": [
    "# Show Network"
   ]
  },
  {
   "cell_type": "code",
   "execution_count": 82,
   "id": "e0b5d4c2",
   "metadata": {},
   "outputs": [],
   "source": [
    "import networkx as nx\n",
    "from pyvis.network import Network\n",
    "import matplotlib.pyplot as plt"
   ]
  },
  {
   "cell_type": "code",
   "execution_count": 83,
   "id": "fa0814ca",
   "metadata": {},
   "outputs": [],
   "source": [
    "# doc_id_query = []\n",
    "# for code_id in df_query['code_id']:\n",
    "#     doc_id_query.append(code_id.split(\"|\")[0])\n",
    "#     doc_id_query = list(set(doc_id_query))"
   ]
  },
  {
   "cell_type": "code",
   "execution_count": 84,
   "id": "ee1dbd74",
   "metadata": {},
   "outputs": [],
   "source": [
    "def create_network(df_query):\n",
    "    if df_query.shape[0] != 0:\n",
    "        doc_id_query = []\n",
    "        for code_id in df_query['code_id']:\n",
    "            doc_id_query.append(code_id.split(\"|\")[0])\n",
    "            doc_id_query = list(set(doc_id_query))\n",
    "    else:\n",
    "        doc_id_query = None\n",
    "    \n",
    "    data_max_pair = pd.read_csv('data_max_pair4.csv')\n",
    "    doc_id_A_list = []\n",
    "    doc_id_B_list = []\n",
    "    doc_id_list = []\n",
    "    set_of_pair_list = []\n",
    "    \n",
    "    code_id_pairs = list(data_max_pair['max_pair_list'])\n",
    "    for code_id_pair in code_id_pairs:\n",
    "        code_id_split = code_id_pair.split(' ~ ')\n",
    "\n",
    "        doc_id_A = code_id_split[0].split('|')[0]\n",
    "        doc_id_B = code_id_split[1].split('|')[0]\n",
    "        \n",
    "        if doc_id_query != None and doc_id_A in doc_id_query and doc_id_B in doc_id_query:\n",
    "            doc_id_A_list.append(doc_id_A)\n",
    "            doc_id_B_list.append(doc_id_B)\n",
    "            set_of_pair_list.append({doc_id_A,doc_id_B})\n",
    "            \n",
    "        elif doc_id_query == None:\n",
    "            doc_id_A_list.append(doc_id_A)\n",
    "            doc_id_B_list.append(doc_id_B)\n",
    "            set_of_pair_list.append({doc_id_A,doc_id_B})\n",
    "            \n",
    "    if len(doc_id_A_list) == 0:\n",
    "        return None\n",
    "\n",
    "    doc_id_list.extend(doc_id_A_list)\n",
    "    doc_id_list.extend(doc_id_B_list)\n",
    "    doc_id_list = list(set(doc_id_list))\n",
    "    \n",
    "    G = Network()\n",
    "    for doc_A in doc_id_list:\n",
    "        for doc_B in doc_id_list:\n",
    "            if doc_A != doc_B and {doc_A,doc_B} in set_of_pair_list:\n",
    "                weight = set_of_pair_list.count({doc_A,doc_B})\n",
    "                G.add_node(doc_A)\n",
    "                G.add_node(doc_B)\n",
    "                # G.add_edge(doc_A, doc_B, weight=weight )\n",
    "                G.add_edge(doc_A, doc_B, value=weight)\n",
    "    return G"
   ]
  },
  {
   "cell_type": "code",
   "execution_count": 85,
   "id": "b4e20685",
   "metadata": {},
   "outputs": [],
   "source": [
    "G = create_network(df_query)\n",
    "# G.show_buttons(filter_=[\"nodes\", \"edges\", \"physics\"])\n",
    "G.show('nx.html')"
   ]
  },
  {
   "cell_type": "code",
   "execution_count": 86,
   "id": "3d389807",
   "metadata": {},
   "outputs": [],
   "source": [
    "# g = Network()\n",
    "# total = 0\n",
    "# all_doc = df_all_doc['Doc_ID'].unique()\n",
    "# for n in range(0,len(all_doc)): \n",
    "#     g.add_node(n)\n",
    "# for i in range(0,len(all_doc)): \n",
    "#     for j in range(i,len(all_doc)):\n",
    "#         if i != j:\n",
    "#             doc_pair_weigh = doc_pair.count({all_doc[i], all_doc[j]})\n",
    "#             if doc_pair_weigh > 0:\n",
    "#                 total += doc_pair_weigh\n",
    "#                 g.add_edge(i, j, value=doc_pair_weigh)\n",
    "# g.show_buttons(filter_=['physics'])\n",
    "# g.show('nx.html')"
   ]
  },
  {
   "cell_type": "code",
   "execution_count": 87,
   "id": "2250b3ba",
   "metadata": {},
   "outputs": [],
   "source": [
    "# def create_network(df_query):\n",
    "#     if df_query.shape[0] != 0:\n",
    "#         doc_id_query = []\n",
    "#         for code_id in df_query['code_id']:\n",
    "#             doc_id_query.append(code_id.split(\"|\")[0])\n",
    "#             doc_id_query = list(set(doc_id_query))\n",
    "#     else:\n",
    "#         doc_id_query = None\n",
    "    \n",
    "#     data_max_pair = pd.read_csv('data_max_pair4.csv')\n",
    "#     doc_id_A_list = []\n",
    "#     doc_id_B_list = []\n",
    "#     doc_id_list = []\n",
    "#     set_of_pair_list = []\n",
    "    \n",
    "#     code_id_pairs = list(data_max_pair['max_pair_list'])\n",
    "#     for code_id_pair in code_id_pairs:\n",
    "#         code_id_split = code_id_pair.split(' ~ ')\n",
    "\n",
    "#         doc_id_A = code_id_split[0].split('|')[0]\n",
    "#         doc_id_B = code_id_split[1].split('|')[0]\n",
    "        \n",
    "#         if doc_id_query != None and doc_id_A in doc_id_query and doc_id_B in doc_id_query:\n",
    "#             doc_id_A_list.append(doc_id_A)\n",
    "#             doc_id_B_list.append(doc_id_B)\n",
    "#             set_of_pair_list.append({doc_id_A,doc_id_B})\n",
    "            \n",
    "#         elif doc_id_query == None:\n",
    "#             doc_id_A_list.append(doc_id_A)\n",
    "#             doc_id_B_list.append(doc_id_B)\n",
    "#             set_of_pair_list.append({doc_id_A,doc_id_B})\n",
    "            \n",
    "#     if len(doc_id_A_list) == 0:\n",
    "#         return None\n",
    "\n",
    "#     doc_id_list.extend(doc_id_A_list)\n",
    "#     doc_id_list.extend(doc_id_B_list)\n",
    "#     doc_id_list = list(set(doc_id_list))\n",
    "    \n",
    "#     G = nx.Graph()\n",
    "#     for doc_A in doc_id_list:\n",
    "#         for doc_B in doc_id_list:\n",
    "#             if doc_A != doc_B and {doc_A,doc_B} in set_of_pair_list:\n",
    "#                 weight = set_of_pair_list.count({doc_A,doc_B})\n",
    "#                 G.add_edge(doc_A, doc_B, weight=weight )\n",
    "#     return G"
   ]
  },
  {
   "cell_type": "code",
   "execution_count": 88,
   "id": "42556fa9",
   "metadata": {},
   "outputs": [],
   "source": [
    "# G = create_network(df_query)"
   ]
  },
  {
   "cell_type": "code",
   "execution_count": 89,
   "id": "598c273b",
   "metadata": {},
   "outputs": [],
   "source": [
    "# def show_network(pyvis_network):\n",
    "#     pyvis_network = Network(height = 800,width = 800, notebook=True)\n",
    "#     pyvis_network.toggle_hide_edges_on_drag(False)\n",
    "#     pyvis_network.barnes_hut()\n",
    "#     pyvis_network.show_buttons(filter_=['physics'])\n",
    "#     return pyvis_network"
   ]
  },
  {
   "cell_type": "code",
   "execution_count": 90,
   "id": "af2d5842",
   "metadata": {},
   "outputs": [],
   "source": [
    "# pyvis_network = show_network(G)\n",
    "# pyvis_network.show(\"result.html\")"
   ]
  },
  {
   "cell_type": "code",
   "execution_count": 91,
   "id": "70125b0a",
   "metadata": {},
   "outputs": [],
   "source": [
    "# nx.draw(G,with_labels=True,font_weight=\"bold\")\n",
    "# plt.show()"
   ]
  },
  {
   "cell_type": "code",
   "execution_count": 92,
   "id": "a8717104",
   "metadata": {},
   "outputs": [],
   "source": [
    "# data_max_pair = pd.read_csv('data_max_pair4.csv')"
   ]
  },
  {
   "cell_type": "code",
   "execution_count": 93,
   "id": "820c4346",
   "metadata": {},
   "outputs": [],
   "source": [
    "# data_max_pair.head()"
   ]
  },
  {
   "cell_type": "code",
   "execution_count": 94,
   "id": "d8bfaf5f",
   "metadata": {},
   "outputs": [],
   "source": [
    "# doc_id_A_list = []\n",
    "# doc_id_B_list = []\n",
    "# doc_id_list = []\n",
    "# set_of_pair_list = []\n",
    "\n",
    "# code_id_pairs = list(data_max_pair['max_pair_list'])\n",
    "# for code_id_pair in code_id_pairs:\n",
    "#     code_id_split = code_id_pair.split(' ~ ')\n",
    "    \n",
    "#     doc_id_A = code_id_split[0].split('|')[0]\n",
    "#     doc_id_B = code_id_split[1].split('|')[0]\n",
    "# #     if doc_id_A == '0028' and doc_id_B == '0038':\n",
    "# #         print(code_id_pair)\n",
    "    \n",
    "#     doc_id_A_list.append(doc_id_A)\n",
    "#     doc_id_B_list.append(doc_id_B)\n",
    "#     set_of_pair_list.append({doc_id_A,doc_id_B})\n",
    "    \n",
    "# doc_id_list.extend(code_id_A_list)\n",
    "# doc_id_list.extend(code_id_B_list)\n",
    "# doc_id_list = list(set(doc_id_list))"
   ]
  },
  {
   "cell_type": "code",
   "execution_count": 95,
   "id": "630837d9",
   "metadata": {},
   "outputs": [],
   "source": [
    "# G = nx.Graph()\n",
    "# for doc_A in doc_id_list:\n",
    "#     for doc_B in doc_id_list:\n",
    "#         if doc_A != doc_B and {doc_A,doc_B} in set_of_pair_list:\n",
    "#             weight = set_of_pair_list.count({doc_A,doc_B})\n",
    "#             G.add_edge(doc_A, doc_B, weight=weight )\n",
    "#             #create edge\n",
    "            "
   ]
  },
  {
   "cell_type": "code",
   "execution_count": 96,
   "id": "5f4f9829",
   "metadata": {},
   "outputs": [],
   "source": [
    "# nx.draw(G,with_labels=True,font_weight=\"bold\")\n",
    "# plt.show()"
   ]
  },
  {
   "cell_type": "code",
   "execution_count": 97,
   "id": "ab177387",
   "metadata": {},
   "outputs": [],
   "source": [
    "# code_mapping[code_mapping['doc_id'].isin(['0039','0034','0024'])]['name']"
   ]
  },
  {
   "cell_type": "markdown",
   "id": "a3dada7b",
   "metadata": {},
   "source": [
    "# Show result when click on any query\n",
    "* click on '0001|0003|0023'"
   ]
  },
  {
   "cell_type": "code",
   "execution_count": 98,
   "id": "59348ee5",
   "metadata": {},
   "outputs": [],
   "source": [
    "def show_result(query_code_id,mapping_result_id):\n",
    "    query_sentence = dict_query_list[query_code_id]\n",
    "    compare_sentence = dict_query_list[mapping_result_id]\n",
    "    \n",
    "    compare_sentence_result_list = list(dif.Differ().compare(query_sentence,compare_sentence))\n",
    "    \n",
    "    new_str1 = ''\n",
    "    new_str2 = ''\n",
    "    len_first = 0 #เช็กว่าเป็นคำแรกของประโยคไหม ถ้าเป็นก็จะตัดออก เพื่อปรับให้ประโยคตรงกัน\n",
    "    \n",
    "    for symbol_and_word in compare_sentence_result_list:\n",
    "        symbol = symbol_and_word[:2]\n",
    "        word = symbol_and_word[2:]\n",
    "        if symbol == '+ ' and len_first!= 0:\n",
    "            new_str1 = new_str1 + f\"{Fore.RED}{word}\"\n",
    "        elif symbol == '- ' and len_first!= 0:\n",
    "            new_str2 = new_str2 + f\"{Fore.BLUE}{word}\"\n",
    "        elif symbol == '? ':\n",
    "            None\n",
    "        elif symbol != '+ ' and symbol != '- ' and symbol != '? ':\n",
    "            len_first += 1\n",
    "            new_str1 = new_str1 + f\"{Fore.BLACK}{word}\"\n",
    "            new_str2 = new_str2 + f\"{Fore.BLACK}{word}\"\n",
    "    \n",
    "    return new_str2.replace('BLANK',' '),new_str1.replace('BLANK',' ')"
   ]
  },
  {
   "cell_type": "code",
   "execution_count": 99,
   "id": "d969f995",
   "metadata": {},
   "outputs": [],
   "source": [
    "def click_query(query_code_id):\n",
    "    index_query = dict_pair['query'].index(query_code_id)\n",
    "    index_match_query = dict_pair['result'][index_query]\n",
    "    index_match_score = dict_pair['Score'][index_query]\n",
    "    \n",
    "    result_sentence_list = []\n",
    "    for result_from_query in index_match_query:\n",
    "        query_sentence, result_sentence = show_result(query_code_id,result_from_query)\n",
    "        result_sentence_list.append(result_sentence)\n",
    "    return query_sentence, result_sentence_list, index_match_query, index_match_score"
   ]
  },
  {
   "cell_type": "code",
   "execution_count": 100,
   "id": "6381e666",
   "metadata": {},
   "outputs": [],
   "source": [
    "# index_find = 5\n",
    "# print(\"query: \",dict_pair['query'][5])\n",
    "# print(\"result: \",dict_pair['result'][5])\n",
    "# print(\"Score: \",dict_pair['Score'][5])"
   ]
  },
  {
   "cell_type": "code",
   "execution_count": 179,
   "id": "a4240767",
   "metadata": {},
   "outputs": [
    {
     "name": "stdout",
     "output_type": "stream",
     "text": [
      "0002 : 0024\n",
      "นำส่งประกาศธนาคารแห่งประเทศไทย เรื่องกำหนด หลักเกณฑ์ วิธีการ และเงื่อนไขในการประกอบธุรกิจสินเชื่อรายย่อยเพื่อการประกอบอาชีพภายใต้การกำกับ\n"
     ]
    }
   ],
   "source": [
    "query_id = '0002|0024|0001'\n",
    "query_sentence,result_sentence_list,index_match_query,index_match_score = click_query(query_id)\n",
    "doc_id, page_id, sentence_id, doc_name = get_document_info(query_id)\n",
    "print(doc_id,':',page_id)\n",
    "print(doc_name)"
   ]
  },
  {
   "cell_type": "code",
   "execution_count": 191,
   "id": "da76d9cf",
   "metadata": {},
   "outputs": [
    {
     "name": "stdout",
     "output_type": "stream",
     "text": [
      "Query Result: \n",
      "\u001b[30m)\u001b[30m \u001b[30mธุรกิจ\u001b[30mบัตรเครดิต\u001b[30m \u001b[30mธุรกิจ\u001b[30mสินเชื่อ\u001b[30mส่วนบุคคล\u001b[30mภายใต้\u001b[30mการกำกับ\u001b[30m \u001b[30mธุรกิจ\u001b[30mสินเชื่อ\u001b[30mรายย่อย\u001b[30mเพื่อ\u001b[30mการ\u001b[30m \u001b[30mประกอบอาชีพ\u001b[30mภายใต้\u001b[30mการกำกับ\u001b[30m \u001b[30mธุรกิจ\u001b[30mสินเชื่อ\u001b[30mรายย่อย\u001b[30mระดับ\u001b[30mจังหวัด\u001b[30mภายใต้\u001b[30mการกำกับ\u001b[30m \u001b[30mธุรกิจ\u001b[30mระบบ\u001b[30mหรือ\u001b[30m \u001b[30mเครือข่าย\u001b[30mอิเล็กทรอนิกส์\u001b[30mสำหรับ\u001b[30mธุรกรรม\u001b[30mสินเชื่อ\u001b[30mระหว่าง\u001b[30mบุคคล\u001b[30mกับ\u001b[30mบุคคล\u001b[30m \u001b[30mซึ่ง\u001b[30mเป็น\u001b[30mกิจการ\u001b[30mที่\u001b[30mต้อง\u001b[30mขออนุญาต\u001b[30m \u001b[30mตามกฎหมาย\u001b[30m \u001b[30m(\u001b[30m๓\u001b[30m)\u001b[30m \u001b[30mธุรกิจ\u001b[30mระบบ\u001b[30mการ\u001b[30mชำระเงิน\u001b[30mภายใต้\u001b[30mการกำกับ\u001b[30mและ\u001b[30mธุรกิจ\u001b[34mบริการ\u001b[34mการ\u001b[34mชำระเงิน\u001b[34mภายใต้\u001b[34mการกำกับ\u001b[34m \u001b[34mตามกฎหมาย\u001b[34mว่าด้วย\u001b[34mระบบ\u001b[34mการ\u001b[34mชำระเงิน\u001b[34m \u001b[34m(\u001b[34m๔\u001b[34m)\u001b[34m \u001b[34mธุรกิจ\u001b[34mบริหาร\u001b[34mสินทรัพย์\u001b[34mตามกฎหมาย\u001b[34mว่าด้วย\u001b[34mบริษัท\u001b[34mบริหาร\u001b[34mสินทรัพย์\u001b[34m \u001b[34m(\u001b[34m๕\u001b[34m)\u001b[34m \u001b[34mธุรกิจ\u001b[34mเกี่ยวกับ\u001b[34mปัจจัย\n",
      "\n",
      "\n",
      "จำนวนผล :  5\n",
      "\n",
      "\n",
      "Result_Number:  0\n",
      "Doc_id:  0000\n",
      "ชื่อเอกสาร:  นำส่งประกาศธนาคารแห่งประเทศไทย เรื่องกำหนด หลักเกณฑ์ วิธีการ และเงื่อนไขในการประกอบธุรกิจบัตรเครดิต\n",
      "หน้าที่: 23\n",
      "\u001b[30m)\u001b[30m \u001b[30mธุรกิจ\u001b[30mบัตรเครดิต\u001b[30m \u001b[30mธุรกิจ\u001b[30mสินเชื่อ\u001b[30mส่วนบุคคล\u001b[30mภายใต้\u001b[30mการกำกับ\u001b[30m \u001b[30mธุรกิจ\u001b[30mสินเชื่อ\u001b[30mรายย่อย\u001b[30mเพื่อ\u001b[30mการ\u001b[30m \u001b[30mประกอบอาชีพ\u001b[30mภายใต้\u001b[30mการกำกับ\u001b[30m \u001b[30mธุรกิจ\u001b[30mสินเชื่อ\u001b[30mรายย่อย\u001b[30mระดับ\u001b[30mจังหวัด\u001b[30mภายใต้\u001b[30mการกำกับ\u001b[30m \u001b[30mธุรกิจ\u001b[30mระบบ\u001b[30mหรือ\u001b[30m \u001b[30mเครือข่าย\u001b[30mอิเล็กทรอนิกส์\u001b[30mสำหรับ\u001b[30mธุรกรรม\u001b[30mสินเชื่อ\u001b[30mระหว่าง\u001b[30mบุคคล\u001b[30mกับ\u001b[30mบุคคล\u001b[30m \u001b[30mซึ่ง\u001b[30mเป็น\u001b[30mกิจการ\u001b[30mที่\u001b[30mต้อง\u001b[30mขออนุญาต\u001b[30m \u001b[30mตามกฎหมาย\u001b[30m \u001b[30m(\u001b[30m๓\u001b[30m)\u001b[30m \u001b[30mธุรกิจ\u001b[30mระบบ\u001b[30mการ\u001b[30mชำระเงิน\u001b[30mภายใต้\u001b[30mการกำกับ\u001b[30mและ\u001b[30mธุรกิจ\n",
      "Score:  0.6908889743325061\n",
      "\n",
      "\n",
      "Result_Number:  1\n",
      "Doc_id:  0001\n",
      "ชื่อเอกสาร:  นำส่งประกาศธนาคารแห่งประเทศไทย เรื่องกำหนด หลักเกณฑ์ วิธีการ และเงื่อนไขในการประกอบธุรกิจสินเชื่อส่วนบุคคลภายใต้การกำกับ\n",
      "หน้าที่: 29\n",
      "\u001b[30m)\u001b[30m \u001b[30mธุรกิจ\u001b[30mบัตรเครดิต\u001b[30m \u001b[30mธุรกิจ\u001b[30mสินเชื่อ\u001b[30mส่วนบุคคล\u001b[30mภายใต้\u001b[30mการกำกับ\u001b[30m \u001b[30mธุรกิจ\u001b[30mสินเชื่อ\u001b[30mรายย่อย\u001b[30mเพื่อ\u001b[30mการ\u001b[30m \u001b[30mประกอบอาชีพ\u001b[30mภายใต้\u001b[30mการกำกับ\u001b[30m \u001b[30mธุรกิจ\u001b[30mสินเชื่อ\u001b[30mรายย่อย\u001b[30mระดับ\u001b[30mจังหวัด\u001b[30mภายใต้\u001b[30mการกำกับ\u001b[30m \u001b[30mธุรกิจ\u001b[30mระบบ\u001b[30mหรือ\u001b[30m \u001b[30mเครือข่าย\u001b[30mอิเล็กทรอนิกส์\u001b[30mสำหรับ\u001b[30mธุรกรรม\u001b[30mสินเชื่อ\u001b[30mระหว่าง\u001b[30mบุคคล\u001b[30mกับ\u001b[30mบุคคล\u001b[30m \u001b[30mซึ่ง\u001b[30mเป็น\u001b[30mกิจการ\u001b[30mที่\u001b[30mต้อง\u001b[30mขออนุญาต\u001b[30m \u001b[30mตามกฎหมาย\u001b[30m \u001b[30m(\u001b[30m๓\u001b[30m)\u001b[30m \u001b[30mธุรกิจ\u001b[30mระบบ\u001b[30mการ\u001b[30mชำระเงิน\u001b[30mภายใต้\u001b[30mการกำกับ\u001b[30mและ\u001b[30mธุรกิจ\u001b[30mบริการ\u001b[30mการ\u001b[30mชำระเงิน\u001b[30mภายใต้\u001b[30mการกำกับ\u001b[30m \u001b[30mตามกฎหมาย\u001b[30mว่าด้วย\u001b[30mระบบ\u001b[30mการ\u001b[30mชำระเงิน\u001b[30m \u001b[30m(\u001b[30m๔\u001b[30m)\u001b[30m \u001b[30mธุรกิจ\u001b[30mบริหาร\u001b[30mสินทรัพย์\n",
      "Score:  0.8781803917423806\n",
      "\n",
      "\n",
      "Result_Number:  2\n",
      "Doc_id:  0003\n",
      "ชื่อเอกสาร:  นำส่งประกาศธนาคารแห่งประเทศไทย เรื่องกำหนด หลักเกณฑ์ วิธีการ และเงื่อนไขในการประกอบธุรกิจระบบหรือเครือข่ายอิเล็กทรอนิกส์สำหรับธุรกรรมสินเชื่อระหว่างบุคคลกับบุคคล (peer to peer lending platform)\n",
      "หน้าที่: 29\n",
      "\u001b[30mการกำกับ\u001b[30m \u001b[30mธุรกิจ\u001b[30mสินเชื่อ\u001b[30mรายย่อย\u001b[30mเพื่อ\u001b[30mการ\u001b[30m \u001b[30mประกอบอาชีพ\u001b[30mภายใต้\u001b[30mการกำกับ\u001b[30m \u001b[30mธุรกิจ\u001b[30mสินเชื่อ\u001b[30mรายย่อย\u001b[30mระดับ\u001b[30mจังหวัด\u001b[30mภายใต้\u001b[30mการกำกับ\u001b[30m \u001b[30mธุรกิจ\u001b[30mระบบ\u001b[30mหรือ\u001b[30m \u001b[30mเครือข่าย\u001b[30mอิเล็กทรอนิกส์\u001b[30mสำหรับ\u001b[30mธุรกรรม\u001b[30mสินเชื่อ\u001b[30mระหว่าง\u001b[30mบุคคล\u001b[30mกับ\u001b[30mบุคคล\u001b[30m \u001b[30mซึ่ง\u001b[30mเป็น\u001b[30mกิจการ\u001b[30mที่\u001b[30mต้อง\u001b[30mขออนุญาต\u001b[30m \u001b[30mตามกฎหมาย\u001b[30m \u001b[30m(\u001b[30m๓\u001b[30m)\u001b[30m \u001b[30mธุรกิจ\u001b[30mระบบ\u001b[30mการ\u001b[30mชำระเงิน\u001b[30mภายใต้\u001b[30mการกำกับ\u001b[30mและ\u001b[30mธุรกิจ\u001b[30mบริการ\u001b[30mการ\u001b[30mชำระเงิน\u001b[30mภายใต้\u001b[30mการกำกับ\u001b[30m \u001b[30mตามกฎหมาย\u001b[30mว่าด้วย\u001b[30mระบบ\u001b[30mการ\u001b[30mชำระเงิน\u001b[30m \u001b[30m(\u001b[30m๔\u001b[30m)\u001b[30m \u001b[30mธุรกิจ\u001b[30mบริหาร\u001b[30mสินทรัพย์\u001b[30mตามกฎหมาย\u001b[30mว่าด้วย\u001b[30mบริษัท\u001b[30mบริหาร\u001b[30mสินทรัพย์\u001b[30m \u001b[30m(\u001b[30m๕\u001b[30m)\u001b[30m \u001b[30mธุรกิจ\u001b[30mเกี่ยวกับ\u001b[30mปัจจัย\u001b[31mชำระเงิน\u001b[31mต่างประเทศ\u001b[31m \u001b[31mตามกฎหมาย\u001b[31mว่าด้วย\u001b[31mการควบคุม\u001b[31mการ\u001b[31mแลกเปลี่ยน\n",
      "Score:  0.8811259024000274\n",
      "\n",
      "\n",
      "Result_Number:  3\n",
      "Doc_id:  0007\n",
      "ชื่อเอกสาร:  กิจการที่ต้องขออนุญาติตามข้อ ๕ แห่งประกาศของคณะปฎิวัติ ฉบับที่ ๕๘ (เรื่องธุรกิจระบบหรือเครือข่ายอิเล็กทรอนิกส์สำหรับธุรกรรมสินเชื่อระหว่างบุคคลกับบุคคล)\n",
      "หน้าที่: 3\n",
      "\u001b[30m)\u001b[30m \u001b[30mธุรกิจ\u001b[30mบัตรเครดิต\u001b[30m \u001b[30mธุรกิจ\u001b[30mสินเชื่อ\u001b[30mส่วนบุคคล\u001b[30mภายใต้\u001b[30mการกำกับ\u001b[30m \u001b[30mธุรกิจ\u001b[30mสินเชื่อ\u001b[30mรายย่อย\u001b[30mเพื่อ\u001b[30mการ\u001b[30m \u001b[30mประกอบอาชีพ\u001b[30mภายใต้\u001b[30mการกำกับ\u001b[30m \u001b[30mธุรกิจ\u001b[30mสินเชื่อ\u001b[30mรายย่อย\u001b[30mระดับ\u001b[30mจังหวัด\u001b[30mภายใต้\u001b[30mการกำกับ\u001b[30m \u001b[30mธุรกิจ\u001b[30mระบบ\u001b[30mหรือ\u001b[30m \u001b[30mเครือข่าย\u001b[30mอิเล็กทรอนิกส์\u001b[30mสำหรับ\u001b[30mธุรกรรม\u001b[30mสินเชื่อ\u001b[30mระหว่าง\u001b[30mบุคคล\u001b[30mกับ\u001b[30mบุคคล\u001b[30m \u001b[30mซึ่ง\u001b[30mเป็น\u001b[30mกิจการ\u001b[30mที่\u001b[30mต้อง\u001b[30mขออนุญาต\u001b[30m \u001b[30mตามกฎหมาย\u001b[30m \u001b[30m(\u001b[30m๓\u001b[30m)\u001b[30m \u001b[30mธุรกิจ\u001b[30mระบบ\u001b[30mการ\u001b[30mชำระเงิน\u001b[30mภายใต้\u001b[30mการกำกับ\u001b[30mและ\u001b[30mธุรกิจ\u001b[30mบริการ\u001b[30mการ\u001b[30mชำระเงิน\u001b[30mภายใต้\u001b[30mการกำกับ\u001b[30m \u001b[30mตามกฎหมาย\u001b[30mว่าด้วย\u001b[30mระบบ\u001b[30mการ\u001b[30mชำระเงิน\u001b[30m \u001b[30m(\u001b[30m๔\u001b[30m)\u001b[30m \u001b[30mธุรกิจ\u001b[30mบริหาร\u001b[30mสินทรัพย์\u001b[30mตามกฎหมาย\u001b[30mว่าด้วย\u001b[30mบริษัท\n",
      "Score:  0.8880986633372955\n",
      "\n",
      "\n",
      "Result_Number:  4\n",
      "Doc_id:  0008\n",
      "ชื่อเอกสาร:  กิจการที่ต้องขออนุญาติตามข้อ ๕ แห่งประกาศของคณะปฎิวัติ ฉบับที่ ๕๘ (เรื่องธุรกิจบัตรเครดิต)\n",
      "หน้าที่: 3\n",
      "\u001b[30m)\u001b[30m \u001b[30mธุรกิจ\u001b[30mบัตรเครดิต\u001b[30m \u001b[30mธุรกิจ\u001b[30mสินเชื่อ\u001b[30mส่วนบุคคล\u001b[30mภายใต้\u001b[30mการกำกับ\u001b[30m \u001b[30mธุรกิจ\u001b[30mสินเชื่อ\u001b[30mรายย่อย\u001b[30mเพื่อ\u001b[30mการ\u001b[30m \u001b[30mประกอบอาชีพ\u001b[30mภายใต้\u001b[30mการกำกับ\u001b[30m \u001b[30mธุรกิจ\u001b[30mสินเชื่อ\u001b[30mรายย่อย\u001b[30mระดับ\u001b[30mจังหวัด\u001b[30mภายใต้\u001b[30mการกำกับ\u001b[30m \u001b[30mธุรกิจ\u001b[30mระบบ\u001b[30mหรือ\u001b[30m \u001b[30mเครือข่าย\u001b[30mอิเล็กทรอนิกส์\u001b[30mสำหรับ\u001b[30mธุรกรรม\u001b[30mสินเชื่อ\u001b[30mระหว่าง\u001b[30mบุคคล\u001b[30mกับ\u001b[30mบุคคล\u001b[30m \u001b[30mซึ่ง\u001b[30mเป็น\u001b[30mกิจการ\u001b[30mที่\u001b[30mต้อง\u001b[30mขออนุญาต\u001b[30m \u001b[30mตามกฎหมาย\u001b[30m \u001b[30m(\u001b[30m๓\u001b[30m)\u001b[30m \u001b[30mธุรกิจ\u001b[30mระบบ\u001b[30mการ\u001b[30mชำระเงิน\u001b[30mภายใต้\u001b[30mการกำกับ\u001b[30mและ\u001b[30mธุรกิจ\n",
      "Score:  0.6908889743325061\n",
      "\n",
      "\n"
     ]
    }
   ],
   "source": [
    "print(\"Query Result: \")\n",
    "print(query_sentence)\n",
    "print('\\n')\n",
    "print(\"จำนวนผล : \",len(result_sentence_list))\n",
    "print('\\n')\n",
    "for index , result_sentence in enumerate(result_sentence_list):\n",
    "    print(\"Result_Number: \",index)\n",
    "    doc_id, page_id, sentence_id, doc_name = get_document_info(index_match_query[index])\n",
    "    print(\"Doc_id: \",doc_id)\n",
    "    print(\"ชื่อเอกสาร: \",doc_name)\n",
    "    print(\"หน้าที่:\",int(page_id))\n",
    "    print(result_sentence)\n",
    "    print(\"Score: \",index_match_score[index])\n",
    "    print('\\n')\n",
    "#     break"
   ]
  },
  {
   "cell_type": "code",
   "execution_count": 181,
   "id": "fb2c4822",
   "metadata": {},
   "outputs": [],
   "source": [
    "res_df = {\n",
    "    'doc_id': [],\n",
    "    'page_id': [],\n",
    "    'sentence_id': [],\n",
    "    'doc_name': [],\n",
    "    'result_sentence': [],\n",
    "}\n",
    "for index , result_sentence in enumerate(result_sentence_list):\n",
    "    doc_id, page_id, sentence_id, doc_name = get_document_info(index_match_query[index])\n",
    "    res_df['doc_id'].append(doc_id)\n",
    "    res_df['page_id'].append(page_id)\n",
    "    res_df['sentence_id'].append(sentence_id)\n",
    "    res_df['doc_name'].append(doc_name)\n",
    "    res_df['result_sentence'].append(result_sentence)\n",
    "res_df = pd.DataFrame(res_df)"
   ]
  },
  {
   "cell_type": "code",
   "execution_count": 177,
   "id": "f45371ee",
   "metadata": {},
   "outputs": [
    {
     "data": {
      "text/html": [
       "<div>\n",
       "<style scoped>\n",
       "    .dataframe tbody tr th:only-of-type {\n",
       "        vertical-align: middle;\n",
       "    }\n",
       "\n",
       "    .dataframe tbody tr th {\n",
       "        vertical-align: top;\n",
       "    }\n",
       "\n",
       "    .dataframe thead th {\n",
       "        text-align: right;\n",
       "    }\n",
       "</style>\n",
       "<table border=\"1\" class=\"dataframe\">\n",
       "  <thead>\n",
       "    <tr style=\"text-align: right;\">\n",
       "      <th></th>\n",
       "      <th>doc_id</th>\n",
       "      <th>page_id</th>\n",
       "      <th>sentence_id</th>\n",
       "      <th>doc_name</th>\n",
       "      <th>result_sentence</th>\n",
       "    </tr>\n",
       "  </thead>\n",
       "  <tbody>\n",
       "    <tr>\n",
       "      <th>0</th>\n",
       "      <td>0000</td>\n",
       "      <td>0023</td>\n",
       "      <td>0023</td>\n",
       "      <td>นำส่งประกาศธนาคารแห่งประเทศไทย เรื่องกำหนด หลั...</td>\n",
       "      <td>\u001b[30m)\u001b[30m \u001b[30mธุรกิจ\u001b[30mบัตรเครดิต\u001b[30m \u001b[...</td>\n",
       "    </tr>\n",
       "    <tr>\n",
       "      <th>1</th>\n",
       "      <td>0001</td>\n",
       "      <td>0029</td>\n",
       "      <td>0006</td>\n",
       "      <td>นำส่งประกาศธนาคารแห่งประเทศไทย เรื่องกำหนด หลั...</td>\n",
       "      <td>\u001b[30m)\u001b[30m \u001b[30mธุรกิจ\u001b[30mบัตรเครดิต\u001b[30m \u001b[...</td>\n",
       "    </tr>\n",
       "    <tr>\n",
       "      <th>2</th>\n",
       "      <td>0003</td>\n",
       "      <td>0029</td>\n",
       "      <td>0023</td>\n",
       "      <td>นำส่งประกาศธนาคารแห่งประเทศไทย เรื่องกำหนด หลั...</td>\n",
       "      <td>\u001b[30mการกำกับ\u001b[30m \u001b[30mธุรกิจ\u001b[30mสินเชื่อ\u001b[3...</td>\n",
       "    </tr>\n",
       "    <tr>\n",
       "      <th>3</th>\n",
       "      <td>0007</td>\n",
       "      <td>0003</td>\n",
       "      <td>0022</td>\n",
       "      <td>กิจการที่ต้องขออนุญาติตามข้อ ๕ แห่งประกาศของคณ...</td>\n",
       "      <td>\u001b[30m)\u001b[30m \u001b[30mธุรกิจ\u001b[30mบัตรเครดิต\u001b[30m \u001b[...</td>\n",
       "    </tr>\n",
       "    <tr>\n",
       "      <th>4</th>\n",
       "      <td>0008</td>\n",
       "      <td>0003</td>\n",
       "      <td>0023</td>\n",
       "      <td>กิจการที่ต้องขออนุญาติตามข้อ ๕ แห่งประกาศของคณ...</td>\n",
       "      <td>\u001b[30m)\u001b[30m \u001b[30mธุรกิจ\u001b[30mบัตรเครดิต\u001b[30m \u001b[...</td>\n",
       "    </tr>\n",
       "  </tbody>\n",
       "</table>\n",
       "</div>"
      ],
      "text/plain": [
       "  doc_id page_id sentence_id  \\\n",
       "0   0000    0023        0023   \n",
       "1   0001    0029        0006   \n",
       "2   0003    0029        0023   \n",
       "3   0007    0003        0022   \n",
       "4   0008    0003        0023   \n",
       "\n",
       "                                            doc_name  \\\n",
       "0  นำส่งประกาศธนาคารแห่งประเทศไทย เรื่องกำหนด หลั...   \n",
       "1  นำส่งประกาศธนาคารแห่งประเทศไทย เรื่องกำหนด หลั...   \n",
       "2  นำส่งประกาศธนาคารแห่งประเทศไทย เรื่องกำหนด หลั...   \n",
       "3  กิจการที่ต้องขออนุญาติตามข้อ ๕ แห่งประกาศของคณ...   \n",
       "4  กิจการที่ต้องขออนุญาติตามข้อ ๕ แห่งประกาศของคณ...   \n",
       "\n",
       "                                     result_sentence  \n",
       "0  \u001b[30m)\u001b[30m \u001b[30mธุรกิจ\u001b[30mบัตรเครดิต\u001b[30m \u001b[...  \n",
       "1  \u001b[30m)\u001b[30m \u001b[30mธุรกิจ\u001b[30mบัตรเครดิต\u001b[30m \u001b[...  \n",
       "2  \u001b[30mการกำกับ\u001b[30m \u001b[30mธุรกิจ\u001b[30mสินเชื่อ\u001b[3...  \n",
       "3  \u001b[30m)\u001b[30m \u001b[30mธุรกิจ\u001b[30mบัตรเครดิต\u001b[30m \u001b[...  \n",
       "4  \u001b[30m)\u001b[30m \u001b[30mธุรกิจ\u001b[30mบัตรเครดิต\u001b[30m \u001b[...  "
      ]
     },
     "execution_count": 177,
     "metadata": {},
     "output_type": "execute_result"
    }
   ],
   "source": [
    "res_df"
   ]
  },
  {
   "cell_type": "code",
   "execution_count": 178,
   "id": "374d5710",
   "metadata": {},
   "outputs": [],
   "source": [
    "doc_id_list = list(pd.unique(res_df['doc_id'].values))"
   ]
  },
  {
   "cell_type": "code",
   "execution_count": null,
   "id": "87922535",
   "metadata": {},
   "outputs": [],
   "source": []
  },
  {
   "cell_type": "code",
   "execution_count": null,
   "id": "fe48229e",
   "metadata": {},
   "outputs": [],
   "source": []
  },
  {
   "cell_type": "code",
   "execution_count": 115,
   "id": "37ffe19c",
   "metadata": {},
   "outputs": [],
   "source": [
    "from ansi2html import Ansi2HTMLConverter\n",
    "import sys\n",
    "conv = Ansi2HTMLConverter()\n",
    "# ansi = \"\".join(sys.stdin.readlines())\n",
    "html = conv.convert(result_sentence)"
   ]
  },
  {
   "cell_type": "code",
   "execution_count": 116,
   "id": "d7729f55",
   "metadata": {},
   "outputs": [],
   "source": [
    "# print(html)"
   ]
  },
  {
   "cell_type": "code",
   "execution_count": 108,
   "id": "db5aaf29",
   "metadata": {},
   "outputs": [
    {
     "name": "stdout",
     "output_type": "stream",
     "text": [
      "\u001b[30m \u001b[34m(\u001b[30m1\u001b[34m)\u001b[30m \u001b[30mนโยบาย\u001b[30mของ\u001b[34mสถาบันการเงิน\u001b[30mควร\u001b[34mให้\u001b[34mความ\u001b[34mสําคัญ\u001b[34m \u001b[30mกับ\u001b[30mการพิจารณา\u001b[30mข้อบ่งชี้\u001b[30m \u001b[30m(\u001b[30mindicators\u001b[30m)\u001b[30m \u001b[30mที่จะ\u001b[30mส่งผล\u001b[34m \u001b[30mต่อ\u001b[30mการ\u001b[30mลดลง\u001b[30mของ\u001b[30mความสามารถ\u001b[30mใน\u001b[30mการชำระหนี้\u001b[34m \u001b[30mหรือ\u001b[30mการ\u001b[30mเพิ่มขึ้น\u001b[30mของ\u001b[30mความเสี่ยง\u001b[30mด้าน\u001b[30mเครดิต\u001b[30mอย่าง\u001b[30mมี\u001b[34m \u001b[34mนัย\u001b[34mสําคัญ\u001b[30m \u001b[30mโดย\u001b[30mตาม\u001b[30mแ\u001b[30m \u001b[30m(ฝ่ายงาน)\u001b[30m \u001b[30mาง\u001b[30mสากล\u001b[30mควร\u001b[30mพิจารณา\u001b[34mข้อ\u001b[34m \u001b[34mบ่งชี้\u001b[30m \u001b[30m2\u001b[30m \u001b[30mด้าน\u001b[30mสำคัญ\u001b[30m \u001b[30mได้แก่\u001b[30m \u001b[30m1\u001b[30m)\u001b[30m \u001b[30mด้าน\u001b[30mการ\u001b[30mค้างชำระ\u001b[30m \u001b[30mและ\u001b[30m \u001b[30m2\u001b[30m)\u001b[30m \u001b[30mด้าน\u001b[30mฐานะ\u001b[30mการเงิน\u001b[30m \u001b[30mผลการดำเนินงาน\u001b[30m \u001b[30mและ\u001b[30mการชำระหนี้\u001b[30m \u001b[30mซึ่ง\u001b[30mครอบคลุม\u001b[30mทั้ง\u001b[30mเหตุการณ์\u001b[30mที่\u001b[34m \u001b[30mเกิดขึ้น\u001b[30mแล้ว\u001b[30mและ\u001b[30mอาจ\u001b[30mเกิดขึ้น\u001b[30mในอนาคต\u001b[30m \u001b[34m(\u001b[30m2\u001b[34m)\u001b[34m \u001b[34mหาก\n"
     ]
    }
   ],
   "source": [
    "print(query_sentence)"
   ]
  },
  {
   "cell_type": "code",
   "execution_count": 165,
   "id": "37b6a8d4",
   "metadata": {},
   "outputs": [
    {
     "data": {
      "text/html": [
       "<div>\n",
       "<style scoped>\n",
       "    .dataframe tbody tr th:only-of-type {\n",
       "        vertical-align: middle;\n",
       "    }\n",
       "\n",
       "    .dataframe tbody tr th {\n",
       "        vertical-align: top;\n",
       "    }\n",
       "\n",
       "    .dataframe thead th {\n",
       "        text-align: right;\n",
       "    }\n",
       "</style>\n",
       "<table border=\"1\" class=\"dataframe\">\n",
       "  <thead>\n",
       "    <tr style=\"text-align: right;\">\n",
       "      <th></th>\n",
       "      <th>doc_id</th>\n",
       "      <th>page_id</th>\n",
       "      <th>sentence_id</th>\n",
       "      <th>doc_name</th>\n",
       "      <th>result_sentence</th>\n",
       "    </tr>\n",
       "  </thead>\n",
       "  <tbody>\n",
       "    <tr>\n",
       "      <th>0</th>\n",
       "      <td>0000</td>\n",
       "      <td>0001</td>\n",
       "      <td>0015</td>\n",
       "      <td>นำส่งประกาศธนาคารแห่งประเทศไทย เรื่องกำหนด หลั...</td>\n",
       "      <td>\u001b[30m)\u001b[30m \u001b[31mรวมถึง\u001b[30mเพื่อ\u001b[31mปรับ\u001b[31...</td>\n",
       "    </tr>\n",
       "    <tr>\n",
       "      <th>1</th>\n",
       "      <td>0000</td>\n",
       "      <td>0003</td>\n",
       "      <td>0021</td>\n",
       "      <td>นำส่งประกาศธนาคารแห่งประเทศไทย เรื่องกำหนด หลั...</td>\n",
       "      <td>\u001b[30m \u001b[30mตามที่\u001b[30m \u001b[30mพ.ร.บ.\u001b[30m \u001b[30mธ...</td>\n",
       "    </tr>\n",
       "    <tr>\n",
       "      <th>2</th>\n",
       "      <td>0001</td>\n",
       "      <td>0003</td>\n",
       "      <td>0030</td>\n",
       "      <td>นำส่งประกาศธนาคารแห่งประเทศไทย เรื่องกำหนด หลั...</td>\n",
       "      <td>\u001b[30m \u001b[30mตามที่\u001b[30m \u001b[30mพ.ร.บ.\u001b[30m \u001b[30mธ...</td>\n",
       "    </tr>\n",
       "  </tbody>\n",
       "</table>\n",
       "</div>"
      ],
      "text/plain": [
       "  doc_id page_id sentence_id  \\\n",
       "0   0000    0001        0015   \n",
       "1   0000    0003        0021   \n",
       "2   0001    0003        0030   \n",
       "\n",
       "                                            doc_name  \\\n",
       "0  นำส่งประกาศธนาคารแห่งประเทศไทย เรื่องกำหนด หลั...   \n",
       "1  นำส่งประกาศธนาคารแห่งประเทศไทย เรื่องกำหนด หลั...   \n",
       "2  นำส่งประกาศธนาคารแห่งประเทศไทย เรื่องกำหนด หลั...   \n",
       "\n",
       "                                     result_sentence  \n",
       "0  \u001b[30m)\u001b[30m \u001b[31mรวมถึง\u001b[30mเพื่อ\u001b[31mปรับ\u001b[31...  \n",
       "1  \u001b[30m \u001b[30mตามที่\u001b[30m \u001b[30mพ.ร.บ.\u001b[30m \u001b[30mธ...  \n",
       "2  \u001b[30m \u001b[30mตามที่\u001b[30m \u001b[30mพ.ร.บ.\u001b[30m \u001b[30mธ...  "
      ]
     },
     "execution_count": 165,
     "metadata": {},
     "output_type": "execute_result"
    }
   ],
   "source": [
    "res_df"
   ]
  },
  {
   "cell_type": "code",
   "execution_count": 166,
   "id": "ec72ce12",
   "metadata": {},
   "outputs": [],
   "source": [
    "filter_res_df = res_df.copy()"
   ]
  },
  {
   "cell_type": "code",
   "execution_count": 168,
   "id": "6a07e9de",
   "metadata": {},
   "outputs": [
    {
     "ename": "SyntaxError",
     "evalue": "invalid syntax (1264559644.py, line 1)",
     "output_type": "error",
     "traceback": [
      "\u001b[0;36m  Input \u001b[0;32mIn [168]\u001b[0;36m\u001b[0m\n\u001b[0;31m    filter_res_df['doc_id'].values[]\u001b[0m\n\u001b[0m                                   ^\u001b[0m\n\u001b[0;31mSyntaxError\u001b[0m\u001b[0;31m:\u001b[0m invalid syntax\n"
     ]
    }
   ],
   "source": [
    "filter_res_df['doc_id'].values[]"
   ]
  },
  {
   "cell_type": "code",
   "execution_count": null,
   "id": "c571bb31",
   "metadata": {},
   "outputs": [],
   "source": []
  }
 ],
 "metadata": {
  "kernelspec": {
   "display_name": "Python [conda env:py39thria]",
   "language": "python",
   "name": "conda-env-py39thria-py"
  },
  "language_info": {
   "codemirror_mode": {
    "name": "ipython",
    "version": 3
   },
   "file_extension": ".py",
   "mimetype": "text/x-python",
   "name": "python",
   "nbconvert_exporter": "python",
   "pygments_lexer": "ipython3",
   "version": "3.9.12"
  }
 },
 "nbformat": 4,
 "nbformat_minor": 5
}
