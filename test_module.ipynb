{
 "cells": [
  {
   "cell_type": "markdown",
   "id": "132557c3",
   "metadata": {},
   "source": [
    "### Import library"
   ]
  },
  {
   "cell_type": "code",
   "execution_count": 1,
   "id": "e7a0bc1a",
   "metadata": {},
   "outputs": [
    {
     "name": "stdout",
     "output_type": "stream",
     "text": [
      "OK !\n"
     ]
    }
   ],
   "source": [
    "from ria import ria\n",
    "from pythainlp import sent_tokenize, word_tokenize\n",
    "\n",
    "print('OK !')"
   ]
  },
  {
   "cell_type": "code",
   "execution_count": 2,
   "id": "92cc2641",
   "metadata": {},
   "outputs": [],
   "source": [
    "app = ria()"
   ]
  },
  {
   "cell_type": "code",
   "execution_count": 6,
   "id": "48923089",
   "metadata": {},
   "outputs": [
    {
     "data": {
      "text/plain": [
       "'1. เหตุผลในการออกประกาศ\\nบริษัทเงินทุนและบริษัทเครดิตฟองซิเอร์ซึ่งเป็นผู้ให้บริการทางการเงินมีการนำ\\nเทคโนโลยีสารสนเทศเข้ามาใช้ในการดำเนินงานอย่างต่อเนื่อง เพื่อพัฒนาศักยภาพของบริษัท\\nเงินทุนและบริษัทเครดิตฟองซิเอร์ให้มีประสิทธิภาพและรวดเร็วในการตอบสนองความต้องการของ\\nผู้ใช้บริการที่เปลี่ยนแปลงไป ซึ่งการเลือกใช้เทคโนโลยีที่เหมาะสมจะทำให้บริษัทเงินทุนและ\\nบริษัทเครดิตฟองซิเอร์สามารถลดต้นทุนและเพิ่มประสิทธิภาพการทำงานได้จริง เป็นที่น่าเชื่อถือ\\nและเป็นการพิทักษ์รักษาประโยชน์ของประชาชนผู้ใช้บริการ\\nการใช้เทคโนโลยีสารสนเทศ แม้จะช่วยให้บริษัทเงินทุนและบริษัทเครดิตฟองซิเอร์\\nลดต้นทุนการให้บริการ เพิ่มประสิทธิภาพ เกิดความรวดเร็วและสร้างความสะดวกสบายให้กับ\\nผู้ใช้บริการก็จริง แต่การใช้เทคโนโลยีดังกล่าวก็ก่อให้เกิดความเสี่ยงเช่นกัน ดังนั้น การควบคุมดูแล\\nรักษาความปลอดภัยจึงเป็นสิ่งสำคัญ เนื่องจากเมื่อเกิดความเสียหายจากระบบเทคโนโลยีดังกล่าว\\nอิเล็กทรอนิกส์\\nอาจก่อให้เกิดความเสียหายแก่บริษัทเงินทุนและบริษัทเครดิตฟองซิเอร์เองทั้งในด้านจำนวนเงินและ\\nชื่อเสียงที่ไม่สามารถประเมินค่าได้ รวมถึงการฉ้อโกงรูปแบบใหม่ ๆ ที่เมื่อเกิดขึ้นแล้วจะเป็นไป\\nอย่างรวดเร็วและเกิดความเสียหายอย่างมากและมีผลกระทบในวงกว้างต่อระบบการเงินของประเทศได้\\nธนาคารแห่งประเทศไทยตระหนักถึงความสําคัญดังกล่าว จึงออกหลักเกณฑ์ให้\\nบริษัทเงินทุนและบริษัทเครดิตฟองซิเอร์ผู้ใช้เทคโนโลยีสารสนเทศในการให้บริการการเงินถือ\\nปฏิบัติตามหลักเกณฑ์และแนวปฏิบัติต่าง ๆ ที่เหมาะสมกับการให้บริการการเงินทาง\\nการออกประกาศฉบับนี้ เพื่ออ้างอิงอำนาจตามกฎหมายให้สอดคล้องกับ\\nพระราชบัญญัติธุรกิจสถาบันการเงิน พ.ศ. 2551 และเป็นการรวบรวมประกาศกระทรวงการคลัง\\nที่เกี่ยวข้องมาประมวลให้อยู่ในฉบับเดียวกัน โดยให้ขอบเขตธุรกิจที่บริษัทเงินทุนและบริษัท\\nเครดิตฟองซิเอร์ได้รับอนุญาตยังคงเป็นไปตามขอบเขตที่ได้รับอนุญาตอยู่เดิม\\n'"
      ]
     },
     "execution_count": 6,
     "metadata": {},
     "output_type": "execute_result"
    }
   ],
   "source": [
    "app.df_meta_question_answer['Original_text'].values[0]"
   ]
  },
  {
   "cell_type": "code",
   "execution_count": null,
   "id": "e2f87e27",
   "metadata": {},
   "outputs": [],
   "source": []
  },
  {
   "cell_type": "code",
   "execution_count": null,
   "id": "c375ca62",
   "metadata": {},
   "outputs": [],
   "source": []
  },
  {
   "cell_type": "code",
   "execution_count": null,
   "id": "3cc5ea7e",
   "metadata": {},
   "outputs": [],
   "source": []
  },
  {
   "cell_type": "markdown",
   "id": "f996c829",
   "metadata": {},
   "source": [
    "สามารถค้นหาหรือได้โดยการใช้ ความเสี่ยง{สถาบันการเงิน|สภาพคล่อง}"
   ]
  },
  {
   "cell_type": "code",
   "execution_count": null,
   "id": "8435ab20",
   "metadata": {},
   "outputs": [],
   "source": [
    "self = ria()"
   ]
  },
  {
   "cell_type": "code",
   "execution_count": null,
   "id": "733f0553",
   "metadata": {},
   "outputs": [],
   "source": [
    "query = 'การธนาคาร' #ifrs9 #Official account\n",
    "self.query = query"
   ]
  },
  {
   "cell_type": "markdown",
   "id": "5c5e2bf1",
   "metadata": {},
   "source": [
    "### Step 02 Find Query Result"
   ]
  },
  {
   "cell_type": "code",
   "execution_count": null,
   "id": "6991bdfa",
   "metadata": {},
   "outputs": [],
   "source": [
    "try:\n",
    "    Result_search = self.step1_user_search()\n",
    "except ValueError:\n",
    "    print(\"ไม่พบผลลัพท์การค้นหา\")"
   ]
  },
  {
   "cell_type": "code",
   "execution_count": null,
   "id": "fa163c6a",
   "metadata": {
    "scrolled": true
   },
   "outputs": [],
   "source": [
    "Result_search"
   ]
  },
  {
   "cell_type": "code",
   "execution_count": null,
   "id": "99c84615",
   "metadata": {},
   "outputs": [],
   "source": [
    "for each in Result_search['หัวเรื่อง']:\n",
    "    print(each)"
   ]
  },
  {
   "cell_type": "code",
   "execution_count": null,
   "id": "ffe2e09b",
   "metadata": {},
   "outputs": [],
   "source": []
  },
  {
   "cell_type": "code",
   "execution_count": null,
   "id": "3b36a5a0",
   "metadata": {},
   "outputs": [],
   "source": []
  },
  {
   "cell_type": "code",
   "execution_count": null,
   "id": "e7d4c90a",
   "metadata": {},
   "outputs": [],
   "source": []
  },
  {
   "cell_type": "markdown",
   "id": "c77028c1",
   "metadata": {},
   "source": [
    "### Step 03 Create Network Graph"
   ]
  },
  {
   "cell_type": "code",
   "execution_count": null,
   "id": "968fd28b",
   "metadata": {},
   "outputs": [],
   "source": [
    "try:\n",
    "    G = self.create_network(Result_search)\n",
    "except StatisticsError:\n",
    "    # Don't have any pair\n",
    "    pass"
   ]
  },
  {
   "cell_type": "code",
   "execution_count": null,
   "id": "eb72a25a",
   "metadata": {},
   "outputs": [],
   "source": [
    "G.show(\"Network_Graph.html\")"
   ]
  },
  {
   "cell_type": "markdown",
   "id": "388f3ca7",
   "metadata": {},
   "source": [
    "### Step 04 User Click Result to see pair"
   ]
  },
  {
   "cell_type": "code",
   "execution_count": null,
   "id": "f4d8d95b",
   "metadata": {},
   "outputs": [],
   "source": [
    "# User Select 0012|0007\n",
    "Doc_Page_ID = '0012|0007'"
   ]
  },
  {
   "cell_type": "markdown",
   "id": "c4197f28",
   "metadata": {},
   "source": [
    "## Next Page Compair sentence"
   ]
  },
  {
   "cell_type": "markdown",
   "id": "a42855db",
   "metadata": {},
   "source": [
    "### Step 05 Show Part One all text in a page"
   ]
  },
  {
   "cell_type": "code",
   "execution_count": null,
   "id": "6aa42f8a",
   "metadata": {},
   "outputs": [],
   "source": [
    "part_one_result = self.part_one_show_original_text(Doc_Page_ID)"
   ]
  },
  {
   "cell_type": "code",
   "execution_count": null,
   "id": "da12d3a6",
   "metadata": {},
   "outputs": [],
   "source": [
    "part_one_result"
   ]
  },
  {
   "cell_type": "markdown",
   "id": "6abf2fb4",
   "metadata": {},
   "source": [
    "### Step 06 Show Part two all pair"
   ]
  },
  {
   "cell_type": "code",
   "execution_count": null,
   "id": "c147831e",
   "metadata": {},
   "outputs": [],
   "source": [
    "part_two_result = self.part_two_show_compare(Doc_Page_ID)"
   ]
  },
  {
   "cell_type": "code",
   "execution_count": null,
   "id": "33163eca",
   "metadata": {},
   "outputs": [],
   "source": [
    "part_two_result"
   ]
  },
  {
   "cell_type": "code",
   "execution_count": null,
   "id": "d9e6d5ca",
   "metadata": {},
   "outputs": [],
   "source": [
    "query_sentence = self.Doc_Page_Sentence_2[self.Doc_Page_Sentence_2['Doc_Page_Sen_ID'] == '0064|0002|0029']['Sentence'].iloc[0]\n",
    "\n"
   ]
  },
  {
   "cell_type": "code",
   "execution_count": null,
   "id": "780f4251",
   "metadata": {},
   "outputs": [],
   "source": [
    "compare_sentence = self.Doc_Page_Sentence_2[self.Doc_Page_Sentence_2['Doc_Page_Sen_ID'] == '0012|0007|0023']['Sentence'].iloc[0]\n",
    "\n"
   ]
  },
  {
   "cell_type": "code",
   "execution_count": null,
   "id": "9cc368af",
   "metadata": {},
   "outputs": [],
   "source": [
    "x,y = self.step3_2_click_show_result(query_sentence,compare_sentence)"
   ]
  },
  {
   "cell_type": "code",
   "execution_count": null,
   "id": "b95523ac",
   "metadata": {},
   "outputs": [],
   "source": [
    "print(x)"
   ]
  },
  {
   "cell_type": "code",
   "execution_count": null,
   "id": "6d42a392",
   "metadata": {},
   "outputs": [],
   "source": [
    "print(y)"
   ]
  },
  {
   "cell_type": "code",
   "execution_count": null,
   "id": "e5d6e149",
   "metadata": {},
   "outputs": [],
   "source": [
    "query_sentence = 'การจัดชั้นและเงินสำรอง'"
   ]
  },
  {
   "cell_type": "code",
   "execution_count": null,
   "id": "af590f61",
   "metadata": {},
   "outputs": [],
   "source": [
    "text = \"\"\"\n",
    "สถาบันการเงินสามารถ พิจารณาปรับการจัดชั้นลูกหนี้รายดังกล่าวมาอยู่ในขั้น ที่ไม่มีการเพิ่มขึ้นอย่างมีนัยสำคัญของความเสี่ยงด้าน เครดิต\n",
    "ซื้อผมมีเงินสำรองอยู่ในนั้น\n",
    "\"\"\""
   ]
  },
  {
   "cell_type": "code",
   "execution_count": null,
   "id": "2ca1ad9d",
   "metadata": {},
   "outputs": [],
   "source": [
    "self.highlight_text(query_sentence,text)"
   ]
  },
  {
   "cell_type": "code",
   "execution_count": null,
   "id": "5913376d",
   "metadata": {},
   "outputs": [],
   "source": []
  },
  {
   "cell_type": "code",
   "execution_count": null,
   "id": "babe66d6",
   "metadata": {},
   "outputs": [],
   "source": []
  },
  {
   "cell_type": "code",
   "execution_count": null,
   "id": "b199e074",
   "metadata": {},
   "outputs": [],
   "source": []
  }
 ],
 "metadata": {
  "kernelspec": {
   "display_name": "Python [conda env:py39thria]",
   "language": "python",
   "name": "conda-env-py39thria-py"
  },
  "language_info": {
   "codemirror_mode": {
    "name": "ipython",
    "version": 3
   },
   "file_extension": ".py",
   "mimetype": "text/x-python",
   "name": "python",
   "nbconvert_exporter": "python",
   "pygments_lexer": "ipython3",
   "version": "3.9.12"
  }
 },
 "nbformat": 4,
 "nbformat_minor": 5
}
